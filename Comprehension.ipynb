{
 "cells": [
  {
   "cell_type": "code",
   "execution_count": null,
   "metadata": {},
   "outputs": [],
   "source": [
    "#comprehension\n",
    "list1 = [n*6 for n in range (1,11)]\n",
    "print(list1)"
   ]
  },
  {
   "cell_type": "code",
   "execution_count": null,
   "metadata": {},
   "outputs": [],
   "source": [
    "#normal loop program\n",
    "list = []\n",
    "\n",
    "li = [n*6 for n in range (1,11)]\n",
    "\n",
    "print(li)"
   ]
  },
  {
   "cell_type": "code",
   "execution_count": null,
   "metadata": {},
   "outputs": [],
   "source": [
    "#normal loop program\n",
    "\n",
    "list = []\n",
    "\n",
    "for n in range(1,5):\n",
    "        list.append(n**2)\n",
    "        print(list)  \n",
    "    "
   ]
  },
  {
   "cell_type": "code",
   "execution_count": null,
   "metadata": {},
   "outputs": [],
   "source": [
    "#comprehension \n",
    "\n",
    "li = [n**2 for n in range (1,5)]\n",
    "print(li)"
   ]
  },
  {
   "cell_type": "code",
   "execution_count": null,
   "metadata": {},
   "outputs": [],
   "source": [
    "# normal loop program\n",
    "\n",
    "list1 = [12]\n",
    "for n in range (1,11):\n",
    "    if n % 2 == 0 :\n",
    "        list1.append( n * 6)\n",
    "print(list1)"
   ]
  },
  {
   "cell_type": "code",
   "execution_count": null,
   "metadata": {},
   "outputs": [],
   "source": [
    "# comprehension\n",
    "\n",
    "list1 = [n*6 for n in range (1,11) if n % 2 == 0]\n",
    "\n",
    "print(list1)"
   ]
  },
  {
   "cell_type": "code",
   "execution_count": null,
   "metadata": {},
   "outputs": [],
   "source": [
    "# normal if else loop\n",
    "\n",
    "list1=[]\n",
    "\n",
    "for n in range (1,11):\n",
    "    if n % 2 == 0 :\n",
    "        list1.append(n*6)\n",
    "        \n",
    "    else:\n",
    "        list1.append(n*5)\n",
    "        \n",
    "print(list1)        "
   ]
  },
  {
   "cell_type": "code",
   "execution_count": null,
   "metadata": {},
   "outputs": [],
   "source": [
    "#comprehension \n",
    "\n",
    "list1 = [n*6 if n % 2 == 0 else n*5 for n in range (1,11) ]\n",
    "print(list1)"
   ]
  },
  {
   "cell_type": "code",
   "execution_count": null,
   "metadata": {},
   "outputs": [],
   "source": [
    "# Nested loop\n",
    "# Its a table code\n",
    "\n",
    "lst = []\n",
    "\n",
    "for x in range (1,4):\n",
    "    for y in range (1,11):\n",
    "        lst.append(x*y)\n",
    "print(lst)    \n"
   ]
  },
  {
   "cell_type": "code",
   "execution_count": null,
   "metadata": {},
   "outputs": [],
   "source": [
    "# Comprehension\n",
    "lst = [ x*y for x in range (1,4) for y in range (1,11) ]\n",
    "print(lst)"
   ]
  },
  {
   "cell_type": "code",
   "execution_count": null,
   "metadata": {},
   "outputs": [],
   "source": [
    "n = int (input())\n",
    "list=[i**2 for i in range (1,n+1)]\n",
    "print(list)"
   ]
  }
 ],
 "metadata": {
  "kernelspec": {
   "display_name": "Python 3",
   "language": "python",
   "name": "python3"
  },
  "language_info": {
   "codemirror_mode": {
    "name": "ipython",
    "version": 3
   },
   "file_extension": ".py",
   "mimetype": "text/x-python",
   "name": "python",
   "nbconvert_exporter": "python",
   "pygments_lexer": "ipython3",
   "version": "3.7.6"
  }
 },
 "nbformat": 4,
 "nbformat_minor": 4
}
