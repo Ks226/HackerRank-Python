{
 "cells": [
  {
   "cell_type": "code",
   "execution_count": 1,
   "metadata": {},
   "outputs": [
    {
     "name": "stdout",
     "output_type": "stream",
     "text": [
      "calculator\n",
      "enter 1 for add\n",
      "enter 2 for subtract\n",
      "enter 3 for multiplt\n",
      "enter 4 for division\n",
      "choice 1 to 4 number=1\n",
      "Enter the 1st element=12\n",
      "enter the 2nd element=12\n",
      "24\n"
     ]
    }
   ],
   "source": [
    "print(\"calculator\")\n",
    "print(\"enter 1 for add\")\n",
    "print(\"enter 2 for subtract\")\n",
    "print(\"enter 3 for multiplt\")\n",
    "print(\"enter 4 for division\")\n",
    "ch=int(input(\"choice 1 to 4 number=\"))\n",
    "if ch==1:\n",
    " a=int(input(\"Enter the 1st element=\"))\n",
    " b=int(input(\"enter the 2nd element=\"))\n",
    " c=a+b\n",
    " print(c)\n",
    "elif ch==2:\n",
    " a=int(input(\"enter the 1 st element=\"))\n",
    " b=int(input(\"enter the 2 nd element=\"))\n",
    " c=a-b\n",
    " print(c)\n",
    "elif ch==3:\n",
    " a=int(input(\"enter the 1 st element=\"))\n",
    " b=int(input(\"enter the 2 nd element=\"))\n",
    " c=a*b\n",
    " print(c)\n",
    "elif ch==4:\n",
    " a=int(input(\"enter the 1 st element=\"))\n",
    " b=int(input(\"enter the 2 nd element=\"))\n",
    " c=a/b\n",
    " print(c)\n",
    "else:\n",
    " print(\"invalid option\")"
   ]
  },
  {
   "cell_type": "code",
   "execution_count": null,
   "metadata": {},
   "outputs": [],
   "source": []
  },
  {
   "cell_type": "code",
   "execution_count": null,
   "metadata": {},
   "outputs": [],
   "source": []
  },
  {
   "cell_type": "code",
   "execution_count": 2,
   "metadata": {},
   "outputs": [
    {
     "name": "stdout",
     "output_type": "stream",
     "text": [
      "bandra,mumbai\n"
     ]
    }
   ],
   "source": [
    "num=\"bmaunmdbraai\"\n",
    "message1=num[0::2]\n",
    "message2=num[1::2]\n",
    "print(message1+\",\"+message2)"
   ]
  },
  {
   "cell_type": "code",
   "execution_count": 4,
   "metadata": {},
   "outputs": [
    {
     "name": "stdout",
     "output_type": "stream",
     "text": [
      "1\n",
      "Weird\n"
     ]
    }
   ],
   "source": [
    "n = int(input())\n",
    "if n % 2 == 1:\n",
    "    print(\"Weird\")\n",
    "elif n % 2 == 0 and 2 <= n <= 5:\n",
    "    print(\"Not Weird\")\n",
    "elif n % 2 == 0 and 6 <= n <= 20:\n",
    "    print(\"Weird\")\n",
    "else:\n",
    "    print(\"Not Weird\")\n"
   ]
  },
  {
   "cell_type": "code",
   "execution_count": 6,
   "metadata": {},
   "outputs": [
    {
     "name": "stdout",
     "output_type": "stream",
     "text": [
      "enter the length\n",
      "12\n",
      "enter the breadth\n",
      "13\n",
      "No, it is rectangle\n"
     ]
    }
   ],
   "source": [
    "#to check the rectange and the square\n",
    "print(\"enter the length\")\n",
    "a=int(input())\n",
    "print(\"enter the breadth\")\n",
    "b=int(input())\n",
    "if a==b:\n",
    "   print(\"yes, it is the square\")\n",
    "else:\n",
    "   print(\"No, it is rectangle\") "
   ]
  },
  {
   "cell_type": "code",
   "execution_count": null,
   "metadata": {},
   "outputs": [],
   "source": [
    "if __name__ == '__main__':\n",
    "    n = int(input())\n",
    "for i in range(n):    \n",
    " print(i*n)"
   ]
  },
  {
   "cell_type": "markdown",
   "metadata": {},
   "source": [
    "## "
   ]
  },
  {
   "cell_type": "code",
   "execution_count": 1,
   "metadata": {},
   "outputs": [
    {
     "name": "stdout",
     "output_type": "stream",
     "text": [
      "1 \r\n",
      "1 2 \r\n",
      "1 2 3 \r\n",
      "1 2 3 4 \r\n",
      "1 2 3 4 5 \r\n"
     ]
    }
   ],
   "source": [
    "n = 5\n",
    "num = 1\n",
    "\n",
    "for i in range(0, n): \n",
    "\n",
    "\t# re assigning num \n",
    "\tnum = 1\n",
    "\n",
    "\t# inner loop to handle number of columns \n",
    "\t\t# values changing acc. to outer loop \n",
    "\tfor j in range(0, i+1):\n",
    "\n",
    "\t\tprint(num, end=\" \") \n",
    "\t\n",
    "\t\t# incrementing number at each column \n",
    "\t\tnum = num + 1\n",
    "\n",
    "\t# ending line after each row \n",
    "\tprint(\"\\r\")"
   ]
  },
  {
   "cell_type": "code",
   "execution_count": null,
   "metadata": {},
   "outputs": [],
   "source": [
    "d1 = {'a': 100, 'b': 200, 'c':300}\n",
    "d1.values()\n",
    "for key in d1.keys():\n",
    "    print(d1[key])"
   ]
  },
  {
   "cell_type": "code",
   "execution_count": null,
   "metadata": {},
   "outputs": [],
   "source": [
    "d1['a']"
   ]
  },
  {
   "cell_type": "code",
   "execution_count": null,
   "metadata": {},
   "outputs": [],
   "source": [
    "year=int(input(\"Enter the date (dd-mm-yy):\"))\n",
    "print(\"this is leap year\") if ( year % 4 ) == 0 and ( not( year%100 == 0)or ( year % 400 == 0)) else print(\"this in not leap year\")"
   ]
  },
  {
   "cell_type": "code",
   "execution_count": 1,
   "metadata": {},
   "outputs": [
    {
     "ename": "SyntaxError",
     "evalue": "unexpected EOF while parsing (<unknown>, line 0)",
     "output_type": "error",
     "traceback": [
      "Traceback \u001b[1;36m(most recent call last)\u001b[0m:\n",
      "  File \u001b[0;32m\"C:\\Users\\SONY\\anaconda3\\lib\\site-packages\\IPython\\core\\interactiveshell.py\"\u001b[0m, line \u001b[0;32m3331\u001b[0m, in \u001b[0;35mrun_code\u001b[0m\n    exec(code_obj, self.user_global_ns, self.user_ns)\n",
      "  File \u001b[0;32m\"<ipython-input-1-6aa3b78c97e9>\"\u001b[0m, line \u001b[0;32m3\u001b[0m, in \u001b[0;35m<module>\u001b[0m\n    input_tuple = ast.literal_eval(input_str)\n",
      "  File \u001b[0;32m\"C:\\Users\\SONY\\anaconda3\\lib\\ast.py\"\u001b[0m, line \u001b[0;32m46\u001b[0m, in \u001b[0;35mliteral_eval\u001b[0m\n    node_or_string = parse(node_or_string, mode='eval')\n",
      "\u001b[1;36m  File \u001b[1;32m\"C:\\Users\\SONY\\anaconda3\\lib\\ast.py\"\u001b[1;36m, line \u001b[1;32m35\u001b[1;36m, in \u001b[1;35mparse\u001b[1;36m\u001b[0m\n\u001b[1;33m    return compile(source, filename, mode, PyCF_ONLY_AST)\u001b[0m\n",
      "\u001b[1;36m  File \u001b[1;32m\"<unknown>\"\u001b[1;36m, line \u001b[1;32munknown\u001b[0m\n\u001b[1;33m    \u001b[0m\n\u001b[1;37m    ^\u001b[0m\n\u001b[1;31mSyntaxError\u001b[0m\u001b[1;31m:\u001b[0m unexpected EOF while parsing\n"
     ]
    }
   ],
   "source": [
    "import ast,sys\n",
    "input_str = sys.stdin.read()\n",
    "input_tuple = ast.literal_eval(input_str)\n",
    "\n",
    "# Write your code here\n",
    "a =list(input_tuple)\n",
    "a.append(\"Python\")\n",
    "print(tuple(a))"
   ]
  },
  {
   "cell_type": "code",
   "execution_count": null,
   "metadata": {},
   "outputs": [],
   "source": [
    "import ast,sys\n",
    "input_str = sys.stdin.read()\n",
    "splits = input_str.split('_')\n",
    "if len(splits) >= 3: \n",
    "    first_name = splits[1]\n",
    "    second_name =splits[0]\n",
    "    customer_code =splits[2]\n",
    "    print(first_name)\n",
    "    print(second_name)\n",
    "    print(customer_code)\n",
    "else:\n",
    "    print('Error in input')\n"
   ]
  },
  {
   "cell_type": "code",
   "execution_count": null,
   "metadata": {},
   "outputs": [],
   "source": [
    "import ast,sys\n",
    "input_str = sys.stdin.read()\n",
    "input_dict = ast.literal_eval(input_str)\n",
    "Employee_list = list( input_dict[104])\n",
    "profession = Employee_list[2]\n",
    "print(profession)\n"
   ]
  },
  {
   "cell_type": "code",
   "execution_count": null,
   "metadata": {},
   "outputs": [],
   "source": [
    "import ast,sys\n",
    "input_str = sys.stdin.read()\n",
    "input_list = ast.literal_eval(input_str)\n",
    "\n",
    "# Type your code here\n",
    "data = ['VARMA', 'raj', 'Gupta', 'SaNdeeP']\n",
    "\n",
    "capitalized = [a.capitalize() for a in data]\n",
    "\n",
    "print(capitalized)\n"
   ]
  },
  {
   "cell_type": "code",
   "execution_count": null,
   "metadata": {},
   "outputs": [],
   "source": [
    "if __name__ == '__main__':\n",
    " n = int(input())\n",
    "for i in range(0,n):\n",
    "   \n",
    " print(i**2)\n",
    "\n",
    " \n"
   ]
  },
  {
   "cell_type": "code",
   "execution_count": null,
   "metadata": {},
   "outputs": [],
   "source": [
    "def is_leap(year):\n",
    "    leap = False\n",
    "    \n",
    "    # Write your logic here\n",
    "def is_leap(n):\n",
    "    if n % 400 == 0:\n",
    "        return True\n",
    "    if n % 100 == 0:\n",
    "        return False\n",
    "    if n % 4 == 0:\n",
    "        return True\n",
    "    return False\n",
    "\n",
    "\n",
    "\n",
    "year = int(input())\n"
   ]
  },
  {
   "cell_type": "code",
   "execution_count": 5,
   "metadata": {},
   "outputs": [
    {
     "name": "stdout",
     "output_type": "stream",
     "text": [
      "3\n",
      "123\n"
     ]
    }
   ],
   "source": [
    "n = int(input())\n",
    "print(*range(1, n + 1),sep=\"\")  \n"
   ]
  },
  {
   "cell_type": "code",
   "execution_count": 1,
   "metadata": {},
   "outputs": [
    {
     "name": "stdout",
     "output_type": "stream",
     "text": [
      "<generator object <genexpr> at 0x00000223C4F19248>\n",
      "[0, 1, 4, 9, 16]\n"
     ]
    }
   ],
   "source": [
    "x = (x **2 for x in range(5))\n",
    "print(x)\n",
    "x = list(x)\n",
    "print(x)\n"
   ]
  }
 ],
 "metadata": {
  "kernelspec": {
   "display_name": "Python 3",
   "language": "python",
   "name": "python3"
  },
  "language_info": {
   "codemirror_mode": {
    "name": "ipython",
    "version": 3
   },
   "file_extension": ".py",
   "mimetype": "text/x-python",
   "name": "python",
   "nbconvert_exporter": "python",
   "pygments_lexer": "ipython3",
   "version": "3.7.6"
  }
 },
 "nbformat": 4,
 "nbformat_minor": 4
}
